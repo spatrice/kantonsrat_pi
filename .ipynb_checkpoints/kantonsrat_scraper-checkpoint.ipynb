{
 "cells": [
  {
   "cell_type": "markdown",
   "metadata": {},
   "source": [
    "# Selenium Scraper für Geschäfte im Kantonsrat\n",
    "Dieses Script lädt alle Geschäfte des Kantonsrats herunter. Name/Nummer/Beteiligte."
   ]
  },
  {
   "cell_type": "code",
   "execution_count": 1,
   "metadata": {},
   "outputs": [],
   "source": [
    "import pandas as pd\n",
    "from selenium import webdriver\n",
    "from selenium.webdriver.common.keys import Keys\n",
    "from selenium.webdriver.support.ui import Select\n",
    "from selenium.webdriver.support.ui import WebDriverWait\n",
    "from selenium.webdriver.common.action_chains import ActionChains\n",
    "import requests\n",
    "from bs4 import BeautifulSoup\n",
    "import PyPDF2\n",
    "import re\n",
    "import matplotlib\n",
    "import matplotlib.pyplot as plt\n",
    "%matplotlib inline\n",
    "from cycler import cycler\n",
    "plt.rcParams.update(\n",
    "    {\"figure.facecolor\": \"#ffffff\",\n",
    "              \"axes.facecolor\": \"#ffffff\",\n",
    "              \"axes.grid\" : True,\n",
    "              \"axes.grid.axis\" : \"y\",\n",
    "              \"grid.color\"    : \"ededed\",\n",
    "              \"grid.linewidth\": 0.8,\n",
    "              \"grid.alpha\": 0.8,\n",
    "              \"axes.spines.left\" : False,\n",
    "              \"axes.spines.right\" : False,\n",
    "              \"axes.spines.top\" : False,\n",
    "              \"axes.spines.bottom\" : False,\n",
    "              \"axes.axisbelow\": False,\n",
    "              \"ytick.major.size\": 0,     \n",
    "              \"ytick.minor.size\": 0,\n",
    "              #\"xtick.direction\" : \"none\",\n",
    "              \"xtick.minor.size\": 0,\n",
    "              \"xtick.major.size\" : 0,\n",
    "              \"xtick.color\"      : \"#191919\",\n",
    "              \"axes.edgecolor\"    :\"#191919\",\n",
    "              \"axes.prop_cycle\" : plt.cycler('color', ['#0c2c84', '#c7e9b4', \n",
    "                                                       '#225ea8','#1d91c0', '#41b6c4', \n",
    "                                                       '#7fcdbb', '#eaea8c']),\n",
    "    'pdf.fonttype': 42,\n",
    "    'ps.fonttype': 42\n",
    "})\n",
    "cycle = plt.rcParams['axes.prop_cycle'].by_key()['color']\n",
    "import re\n",
    "import time\n"
   ]
  },
  {
   "cell_type": "code",
   "execution_count": 2,
   "metadata": {},
   "outputs": [],
   "source": [
    "# Open Chrome Webdriver for Selenium\n",
    "driver = webdriver.Chrome()"
   ]
  },
  {
   "cell_type": "code",
   "execution_count": 3,
   "metadata": {},
   "outputs": [],
   "source": [
    "# send webdriver to webstie\n",
    "driver.get('https://www.kantonsrat.zh.ch/geschaefte/geschaefte.aspx')"
   ]
  },
  {
   "cell_type": "code",
   "execution_count": 4,
   "metadata": {},
   "outputs": [],
   "source": [
    "#click black searchfield once\n",
    "button = driver.find_element_by_xpath('//*[@id=\"ContentPlaceHolderDefault_ContentPlaceHolderBody_ContentPlaceHolderDefault_ContentPlaceHolderContent_ctl00_GeschaeftControl_8_btnSearchGeschaefte\"]') #identify search field\n",
    "driver.execute_script(\"arguments[0].scrollIntoView(true)\", button) #scroll to the search\n",
    "button.click()"
   ]
  },
  {
   "cell_type": "code",
   "execution_count": 5,
   "metadata": {},
   "outputs": [
    {
     "name": "stdout",
     "output_type": "stream",
     "text": [
      "51\n"
     ]
    }
   ],
   "source": [
    "#check how many a-tags are there. Relevant to see if it is last page (51 = not last page)\n",
    "links = driver.find_elements_by_tag_name('a')\n",
    "print(len(links))"
   ]
  },
  {
   "cell_type": "code",
   "execution_count": 6,
   "metadata": {},
   "outputs": [
    {
     "name": "stdout",
     "output_type": "stream",
     "text": [
      "5489/2018 Festsetzung des Budgets für das Rechnungsjahr 2019\n",
      "Vorlage, 29.08.2018\n"
     ]
    },
    {
     "data": {
      "text/plain": [
       "36"
      ]
     },
     "execution_count": 6,
     "metadata": {},
     "output_type": "execute_result"
    }
   ],
   "source": [
    "#check for the names | len is becoming important for the while loop. if len is bigger than 10, search went wrong. retry\n",
    "names = driver.find_elements_by_tag_name('tr')\n",
    "print(names[-9].text)\n",
    "len(names)"
   ]
  },
  {
   "cell_type": "markdown",
   "metadata": {},
   "source": [
    "### Lade die Liste aller Geschäftsnummern und Geschäftsnamen herunter"
   ]
  },
  {
   "cell_type": "code",
   "execution_count": null,
   "metadata": {},
   "outputs": [],
   "source": [
    "#save search results for first page\n",
    "geschaeftsnr = []\n",
    "geschaeftsname = []\n",
    "for link in links[17:-9]:\n",
    "    nr = link.text\n",
    "    geschaeftsnr.append(nr)\n",
    "for name in names[3:-8]:\n",
    "    name = name.text\n",
    "    geschaeftsname.append(name)"
   ]
  },
  {
   "cell_type": "code",
   "execution_count": null,
   "metadata": {},
   "outputs": [],
   "source": [
    "len(geschaeftsname)"
   ]
  },
  {
   "cell_type": "code",
   "execution_count": null,
   "metadata": {},
   "outputs": [],
   "source": [
    "number_sites = int(re.search('\\d\\d\\d\\d*',driver.find_element_by_xpath('//*[@id=\"ctl00_ctl00_ctl00_ctl00_ctl00_ContentPlaceHolderDefault_ContentPlaceHolderBody_ContentPlaceHolderDefault_ContentPlaceHolderContent_ctl00_GeschaeftControl_8_gridGeschaefte_ctl00\"]/tfoot/tr/td/table/tbody/tr/td/div[2]').text)[0])\n",
    "print(number_sites)"
   ]
  },
  {
   "cell_type": "code",
   "execution_count": null,
   "metadata": {},
   "outputs": [],
   "source": [
    "numbers = list(range(2,number_sites+1)) #numbers to start the loop for the second page"
   ]
  },
  {
   "cell_type": "code",
   "execution_count": null,
   "metadata": {},
   "outputs": [],
   "source": [
    "#start the loop for alle pages | save number and name\n",
    "for site in numbers:\n",
    "    print(len(geschaeftsnr))\n",
    "    print(site)\n",
    "    button = driver.find_element_by_xpath('//*[@id=\"ctl00_ctl00_ctl00_ctl00_ctl00_ContentPlaceHolderDefault_ContentPlaceHolderBody_ContentPlaceHolderDefault_ContentPlaceHolderContent_ctl00_GeschaeftControl_8_gridGeschaefte_ctl00\"]/tfoot/tr/td/table/tbody/tr/td/div[1]/input[3]') #identify search field\n",
    "    driver.execute_script(\"arguments[0].scrollIntoView(true)\", button) #scroll to the search\n",
    "    button.click()\n",
    "    time.sleep(1)\n",
    "    links = driver.find_elements_by_tag_name('a')\n",
    "    names = driver.find_elements_by_tag_name('tr')\n",
    "    for link in links[17:-9]:\n",
    "        nr = link.text\n",
    "        geschaeftsnr.append(nr)\n",
    "    for name in names[3:-8]:\n",
    "        name = name.text\n",
    "        geschaeftsname.append(name)"
   ]
  },
  {
   "cell_type": "code",
   "execution_count": null,
   "metadata": {},
   "outputs": [],
   "source": [
    "#safe list of dictionaries to csv\n",
    "#df_nr_name = pd.DataFrame({'geschaeftnr':geschaeftsnr,\n",
    "#                          'geschaftname':geschaeftsname})\n",
    "#df_nr_name.to_csv('nummern_name.csv', index=False)"
   ]
  },
  {
   "cell_type": "markdown",
   "metadata": {},
   "source": [
    "### Hole die Detail-Informationen der Geschäfte"
   ]
  },
  {
   "cell_type": "code",
   "execution_count": null,
   "metadata": {},
   "outputs": [],
   "source": [
    "df_nr_name = pd.read_csv('nummern_name.csv')\n",
    "print(len(df_nr_name))\n"
   ]
  },
  {
   "cell_type": "code",
   "execution_count": null,
   "metadata": {},
   "outputs": [],
   "source": [
    "#Use regex to make sepearate columns for numbers and years\n",
    "df_nr_name['NR'] = df_nr_name['geschaeftnr'].str.extract('(\\d*)/')\n",
    "df_nr_name['NR'] =df_nr_name.NR.astype(int)\n",
    "df_nr_name['YEAR'] = df_nr_name['geschaeftnr'].str.extract('/(\\d*)')\n",
    "df_nr_name['YEAR'] =df_nr_name.YEAR.astype(int)\n",
    "df_nr_name.head()"
   ]
  },
  {
   "cell_type": "markdown",
   "metadata": {},
   "source": [
    "Zuerst: Einzelner Suchdurchlauf, um zu sehen ob alles funktioniert, bevor der Loop gebaut wird"
   ]
  },
  {
   "cell_type": "code",
   "execution_count": null,
   "metadata": {},
   "outputs": [],
   "source": [
    "# send driver to website\n",
    "driver.get('https://www.kantonsrat.zh.ch/geschaefte/geschaefte.aspx')"
   ]
  },
  {
   "cell_type": "code",
   "execution_count": null,
   "metadata": {},
   "outputs": [],
   "source": [
    "#select field for year, sende value\n",
    "yearselector = driver.find_element_by_xpath('//*[@id=\"ctl00_ctl00_ctl00_ctl00_ctl00_ContentPlaceHolderDefault_ContentPlaceHolderBody_ContentPlaceHolderDefault_ContentPlaceHolderContent_ctl00_GeschaeftControl_8_cbxJahr_Input\"]')\n",
    "yearselector.send_keys('2014')"
   ]
  },
  {
   "cell_type": "code",
   "execution_count": null,
   "metadata": {},
   "outputs": [],
   "source": [
    "#select field for policy, sende value\n",
    "geschaeftselector = driver.find_element_by_xpath('//*[@id=\"ctl00_ctl00_ctl00_ctl00_ctl00_ContentPlaceHolderDefault_ContentPlaceHolderBody_ContentPlaceHolderDefault_ContentPlaceHolderContent_ctl00_GeschaeftControl_8_tbxLaufNr\"]')\n",
    "geschaeftselector.send_keys('293')\n",
    "geschaeftselector.send_keys(Keys.RETURN)"
   ]
  },
  {
   "cell_type": "code",
   "execution_count": null,
   "metadata": {},
   "outputs": [],
   "source": [
    "#click on search result\n",
    "links = driver.find_elements_by_tag_name('a')\n",
    "links[17].click()"
   ]
  },
  {
   "cell_type": "code",
   "execution_count": null,
   "metadata": {},
   "outputs": [],
   "source": [
    "driver.find_elements_by_tag_name('p')[0].text #geschäftsart"
   ]
  },
  {
   "cell_type": "code",
   "execution_count": null,
   "metadata": {},
   "outputs": [],
   "source": [
    "driver.find_elements_by_tag_name('p')[1].text #beteiligte personen"
   ]
  },
  {
   "cell_type": "code",
   "execution_count": null,
   "metadata": {},
   "outputs": [],
   "source": [
    "driver.find_elements_by_tag_name('h4')[0].text #ablaufschritte"
   ]
  },
  {
   "cell_type": "markdown",
   "metadata": {},
   "source": [
    "Vorbereitung des Loops"
   ]
  },
  {
   "cell_type": "code",
   "execution_count": null,
   "metadata": {},
   "outputs": [],
   "source": [
    "len(driver.find_elements_by_tag_name('tr'))>10 #if condition für while-loop. if searchresult is not unique len is bigger than 10"
   ]
  },
  {
   "cell_type": "code",
   "execution_count": null,
   "metadata": {},
   "outputs": [],
   "source": [
    "#erease \"vorlagen\" from the government as we are not interested in those issues. they are always numbere 1000+\n",
    "ohnevorlagen = df_nr_name[(df_nr_name['NR']<1000)]\n",
    "ohnevorlagen.head()"
   ]
  },
  {
   "cell_type": "code",
   "execution_count": null,
   "metadata": {},
   "outputs": [],
   "source": [
    "#added new policy, released after first download #392 & 393 existieren nicht\n",
    "neue_geschaefte = ['377/2018','378/2018','379/2018','380/2018','381/2018','382/2018','383/2018','384/2018','385/2018',\n",
    "                   '386/2018','387/2018','388/2018','389/2018', '390/2018', '391/2018',\n",
    "                  '394/2018', '395/2018', '396/2018','397/2018','398/2018','399/2018','400/2018','401/2018',\n",
    "                   '402/2018','403/2018','404/2018','405/2018','406/2018','407/2018','408/2018']"
   ]
  },
  {
   "cell_type": "code",
   "execution_count": null,
   "metadata": {},
   "outputs": [],
   "source": [
    "#generating list for loop with number\n",
    "geschaeftsnr = ohnevorlagen['geschaeftnr']\n",
    "geschaeftsnr = neue_geschaefte + list(geschaeftsnr)"
   ]
  },
  {
   "cell_type": "markdown",
   "metadata": {},
   "source": [
    "Starte den Loop"
   ]
  },
  {
   "cell_type": "code",
   "execution_count": null,
   "metadata": {},
   "outputs": [],
   "source": [
    "# If you want to open Chrome\n",
    "driver = webdriver.Chrome()"
   ]
  },
  {
   "cell_type": "code",
   "execution_count": 9,
   "metadata": {},
   "outputs": [
    {
     "name": "stdout",
     "output_type": "stream",
     "text": [
      "_-_-_-_\n",
      "oops too many search results, rewind\n",
      "_-_-_-_\n",
      "*****\n",
      "390 2018\n",
      "390/2018\n",
      "Erreichung einer gleichberechtigungskonformen Bundesverfassung\n",
      "Brügger Leopold, Erstunterzeichner(in)\n",
      "*****\n",
      "391 2018\n",
      "391/2018\n",
      "Für mehr Wettbewerb und günstigere Prozessführung zugleich – kantonalen Spielraum bzgl. berufsmässige Vertretung in Zivilprozessen nutzen\n",
      "Terekhov Artur, Erstunterzeichner(in)\n",
      "*****\n",
      "394 2018\n",
      "394/2018\n",
      "Der Lotteriefonds gehört den Zürcherinnen und Zürchern\n",
      "Bamert Ueli (SVP, Zürich), Erstunterzeichner(in)\n",
      "Langhart Konrad (SVP, Oberstammheim), Mitunterzeichner(in)\n",
      "Sulser Jürg (SVP, Otelfingen), Mitunterzeichner(in)\n",
      "*****\n",
      "395 2018\n",
      "395/2018\n",
      "Sinnvolle Verwendung von Lotteriefondsgeldern zugunsten von über 50-jährigen Langzeitarbeitslosen\n",
      "Sulser Jürg (SVP, Otelfingen), Erstunterzeichner(in)\n",
      "Bamert Ueli (SVP, Zürich), Mitunterzeichner(in)\n",
      "Langhart Konrad (SVP, Oberstammheim), Mitunterzeichner(in)\n",
      "*****\n",
      "396 2018\n",
      "396/2018\n",
      "Meliorationen: Bericht über werterhaltende Massnahmen\n",
      "Schmid Stefan (SVP, Niederglatt), Erstunterzeichner(in)\n",
      "Ledergerber Domenik (SVP, Herrliberg), Mitunterzeichner(in)\n",
      "Haab Martin (SVP, Mettmenstetten), Mitunterzeichner(in)\n",
      "*****\n",
      "397 2018\n",
      "397/2018\n",
      "Zurückstellen von Kindergartenkindern um halbe Jahre ermöglichen\n",
      "Bourgeois Marc (FDP, Zürich), Erstunterzeichner(in)\n",
      "Borer Anita (SVP, Uster), Mitunterzeichner(in)\n",
      "Ziegler Christoph (GLP, Elgg), Mitunterzeichner(in)\n",
      "*****\n",
      "398 2018\n",
      "398/2018\n",
      "Vorkaufsrecht der Standortgemeinde bei Veräusserun-gen von kantonalen Immobilien\n",
      "Katumba Andrew (SP, Zürich), Erstunterzeichner(in)\n",
      "Neukom Martin (Grüne, Winterthur), Mitunterzeichner(in)\n",
      "Wirth Thomas (GLP, Hombrechtikon), Mitunterzeichner(in)\n",
      "*****\n",
      "399 2018\n",
      "399/2018\n",
      "Rahmenabkommen mit der EU - die Auswirkungen auf den Kanton Zürich\n",
      "Ledergerber Domenik (SVP, Herrliberg), Erstunterzeichner(in)\n",
      "Marty Maria Rita (EDU, Volketswil), Mitunterzeichner(in)\n",
      "Wäfler Daniel (SVP, Gossau), Mitunterzeichner(in)\n",
      "*****\n",
      "400 2018\n",
      "400/2018\n",
      "Bewirtschaftung Uferbereich Fliessgewässer\n",
      "Brunner Robert (Grüne, Steinmaur), Erstunterzeichner(in)\n",
      "*****\n",
      "401 2018\n",
      "401/2018\n",
      "Notunterkünfte ohne Not\n",
      "Huonker Laura (AL, Zürich), Erstunterzeichner(in)\n",
      "Sahli Manuel (AL, Winterthur), Mitunterzeichner(in)\n",
      "*****\n",
      "402 2018\n",
      "402/2018\n",
      "Glaubwürdigkeit des Zürcher Justizvollzugs in der Öffentlichkeit\n",
      "Wäfler Daniel (SVP, Gossau), Erstunterzeichner(in)\n",
      "Zahler Erika (SVP, Boppelsen), Mitunterzeichner(in)\n",
      "Marty Maria Rita (EDU, Volketswil), Mitunterzeichner(in)\n",
      "*****\n",
      "403 2018\n",
      "403/2018\n",
      "Werden die Zivilstandsämter allmählich zu Repressionsbehörden?\n",
      "Loss Davide (SP, Adliswil), Erstunterzeichner(in)\n",
      "Schmid Lorenz (CVP, Männedorf), Mitunterzeichner(in)\n",
      "Rueff-Frenkel Sonja (FDP, Zürich), Mitunterzeichner(in)\n",
      "*****\n",
      "404 2018\n",
      "404/2018\n",
      "Attraktivität des Standortes Zürich für medizinische Grundlagenforschung\n",
      "Balmer-Schiltknecht Bettina (FDP, Zürich), Erstunterzeichner(in)\n",
      "Bourgeois Marc (FDP, Zürich), Mitunterzeichner(in)\n",
      "Geistlich Andreas (FDP, Schlieren), Mitunterzeichner(in)\n",
      "*****\n",
      "405 2018\n",
      "405/2018\n",
      "Rassismus im Sport\n",
      "Wisskirchen Mark Anthony (EVP, Kloten), Erstunterzeichner(in)\n",
      "Sommer Daniel (EVP, Affoltern am Albis), Mitunterzeichner(in)\n",
      "Günthard Fitze Barbara (EVP, Winterthur), Mitunterzeichner(in)\n",
      "*****\n",
      "406 2018\n",
      "406/2018\n",
      "Gibt es Verbesserungspotenzial bei der Arbeitet der SVA?\n",
      "Farner Martin (FDP, Oberstammheim), Erstunterzeichner(in)\n",
      "Mischol Tumasch (SVP, Hombrechtikon), Mitunterzeichner(in)\n",
      "Hübscher Martin (SVP, Wiesendangen), Mitunterzeichner(in)\n",
      "*****\n",
      "407 2018\n",
      "407/2018\n",
      "Gefahr der Ausnützung von Praktikantinnen und Praktikanten erkannt – Was leisten die Richtlinien der TPK zum Umgang mit Einführungspraktika tatsächlich?\n",
      "Wicki Monika (SP, Zürich), Erstunterzeichner(in)\n",
      "Fehr Thoma Karin (Grüne, Uster), Mitunterzeichner(in)\n",
      "*****\n",
      "408 2018\n",
      "408/2018\n",
      "Anträge der KJZ im Bezirk Dielsdorf zu teuren Familienbegleitungen\n",
      "Schmid Stefan (SVP, Niederglatt), Erstunterzeichner(in)\n"
     ]
    }
   ],
   "source": [
    "data = []\n",
    "number=0\n",
    "for number in geschaeftsnr:\n",
    "    dic = {'nr': 0,\n",
    "       'year':0,\n",
    "        'geschaeft': 0,\n",
    "        'beteiligte':0,\n",
    "        #'ablaufschritte':0,\n",
    "          'name':0}\n",
    "    driver.get('https://www.kantonsrat.zh.ch/geschaefte/geschaefte.aspx')\n",
    "    gnr = re.search('(\\d*)',str(number))[0]\n",
    "    year = re.search('/(\\d\\d\\d\\d)',str(number))[0].replace(\"/\",\"\")\n",
    "    yearselector = driver.find_element_by_xpath('//*[@id=\"ctl00_ctl00_ctl00_ctl00_ctl00_ContentPlaceHolderDefault_ContentPlaceHolderBody_ContentPlaceHolderDefault_ContentPlaceHolderContent_ctl00_GeschaeftControl_8_cbxJahr_Input\"]')\n",
    "    yearselector.send_keys(year)\n",
    "    \n",
    "    geschaeftselector = driver.find_element_by_xpath('//*[@id=\"ctl00_ctl00_ctl00_ctl00_ctl00_ContentPlaceHolderDefault_ContentPlaceHolderBody_ContentPlaceHolderDefault_ContentPlaceHolderContent_ctl00_GeschaeftControl_8_tbxLaufNr\"]')\n",
    "    geschaeftselector.send_keys(gnr)\n",
    "    geschaeftselector.send_keys(Keys.RETURN)\n",
    "    \n",
    "    while len(driver.find_elements_by_tag_name('tr'))>11: #weil manchmal Suche nicht eindeutig\n",
    "            print(\"_-_-_-_\")\n",
    "            print('oops too many search results, rewind')\n",
    "            print(\"_-_-_-_\")\n",
    "\n",
    "            driver.get('https://www.kantonsrat.zh.ch/geschaefte/geschaefte.aspx')\n",
    "            gnr = re.search('(\\d*)',str(number))[0]\n",
    "            year = re.search('/(\\d\\d\\d\\d)',str(number))[0].replace(\"/\",\"\").strip()\n",
    "            #print(year)\n",
    "            yearselector = driver.find_element_by_xpath('//*[@id=\"ctl00_ctl00_ctl00_ctl00_ctl00_ContentPlaceHolderDefault_ContentPlaceHolderBody_ContentPlaceHolderDefault_ContentPlaceHolderContent_ctl00_GeschaeftControl_8_cbxJahr_Input\"]')\n",
    "            yearselector.send_keys(year)\n",
    "    \n",
    "            geschaeftselector = driver.find_element_by_xpath('//*[@id=\"ctl00_ctl00_ctl00_ctl00_ctl00_ContentPlaceHolderDefault_ContentPlaceHolderBody_ContentPlaceHolderDefault_ContentPlaceHolderContent_ctl00_GeschaeftControl_8_tbxLaufNr\"]')\n",
    "            geschaeftselector.send_keys(gnr)\n",
    "            geschaeftselector.send_keys(Keys.RETURN)\n",
    "\n",
    "        \n",
    "\n",
    "    links = driver.find_elements_by_tag_name('a')\n",
    "    links[17].click()\n",
    "    \n",
    "    dic['nr'] = gnr\n",
    "    dic['year'] = year\n",
    "    dic['geschaeft'] = driver.find_elements_by_tag_name('p')[0].text #geschäftsart\n",
    "    dic['beteiligte'] = driver.find_elements_by_tag_name('p')[1].text #beteiligte personen\n",
    "    dic['name'] = driver.find_elements_by_tag_name('h4')[0].text\n",
    "    #if 'Verknüpfte Geschäfte' in driver.find_elements_by_tag_name('h4')[2].text:\n",
    "    #    dic['ablaufschritte'] = driver.find_elements_by_tag_name('p')[3].text #ablaufschritte\n",
    "    #else:\n",
    "    #    dic['ablaufschritte'] = driver.find_elements_by_tag_name('p')[2].text #ablaufschritte\n",
    "    print(\"*****\")\n",
    "    print(dic['nr'], dic['year'])\n",
    "    print(dic['name'])\n",
    "    print(dic['beteiligte'])\n",
    "    data.append(dic)\n",
    "    "
   ]
  },
  {
   "cell_type": "code",
   "execution_count": null,
   "metadata": {},
   "outputs": [],
   "source": [
    "#Save downloaded policy to csv\n",
    "#df_dic = pd.DataFrame(data)\n",
    "#df_dic.to_csv('vorstoesse_2018_12_17.csv', index=False)"
   ]
  },
  {
   "cell_type": "code",
   "execution_count": null,
   "metadata": {},
   "outputs": [],
   "source": []
  },
  {
   "cell_type": "code",
   "execution_count": null,
   "metadata": {},
   "outputs": [],
   "source": []
  }
 ],
 "metadata": {
  "kernelspec": {
   "display_name": "Python 3",
   "language": "python",
   "name": "python3"
  },
  "language_info": {
   "codemirror_mode": {
    "name": "ipython",
    "version": 3
   },
   "file_extension": ".py",
   "mimetype": "text/x-python",
   "name": "python",
   "nbconvert_exporter": "python",
   "pygments_lexer": "ipython3",
   "version": "3.6.5"
  }
 },
 "nbformat": 4,
 "nbformat_minor": 2
}
