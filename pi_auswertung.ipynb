{
 "cells": [
  {
   "cell_type": "markdown",
   "metadata": {},
   "source": [
    "# Auswertung der Kantonsratsdaten nach parlamentarischen Initiativen"
   ]
  },
  {
   "cell_type": "code",
   "execution_count": null,
   "metadata": {},
   "outputs": [],
   "source": [
    "#my standard library import\n",
    "import pandas as pd\n",
    "from selenium import webdriver\n",
    "from selenium.webdriver.common.keys import Keys\n",
    "from selenium.webdriver.support.ui import Select\n",
    "from selenium.webdriver.support.ui import WebDriverWait\n",
    "from selenium.webdriver.common.action_chains import ActionChains\n",
    "import requests\n",
    "from bs4 import BeautifulSoup\n",
    "import PyPDF2\n",
    "import re\n",
    "import time\n",
    "import matplotlib\n",
    "import matplotlib.pyplot as plt\n",
    "%matplotlib inline\n",
    "from cycler import cycler\n",
    "plt.rcParams.update(\n",
    "    {\"figure.facecolor\": \"#ffffff\",\n",
    "              \"axes.facecolor\": \"#ffffff\",\n",
    "              \"axes.grid\" : True,\n",
    "              \"axes.grid.axis\" : \"y\",\n",
    "              \"grid.color\"    : \"ededed\",\n",
    "              \"grid.linewidth\": 0.8,\n",
    "              \"grid.alpha\": 0.8,\n",
    "              \"axes.spines.left\" : False,\n",
    "              \"axes.spines.right\" : False,\n",
    "              \"axes.spines.top\" : False,\n",
    "              \"axes.spines.bottom\" : False,\n",
    "              \"axes.axisbelow\": False,\n",
    "              \"ytick.major.size\": 0,     \n",
    "              \"ytick.minor.size\": 0,\n",
    "              #\"xtick.direction\" : \"none\",\n",
    "              \"xtick.minor.size\": 0,\n",
    "              \"xtick.major.size\" : 0,\n",
    "              \"xtick.color\"      : \"#191919\",\n",
    "              \"axes.edgecolor\"    :\"#191919\",\n",
    "              \"axes.prop_cycle\" : plt.cycler('color', ['#0c2c84', '#c7e9b4', \n",
    "                                                       '#225ea8','#1d91c0', '#41b6c4', \n",
    "                                                       '#7fcdbb', '#eaea8c']),\n",
    "    'pdf.fonttype': 42,\n",
    "    'ps.fonttype': 42\n",
    "})\n",
    "cycle = plt.rcParams['axes.prop_cycle'].by_key()['color']\n"
   ]
  },
  {
   "cell_type": "markdown",
   "metadata": {},
   "source": [
    "Importiere daten\n"
   ]
  },
  {
   "cell_type": "code",
   "execution_count": null,
   "metadata": {},
   "outputs": [],
   "source": [
    "df = pd.read_csv('vorstoesse_2018_12_29.csv')\n",
    "df.head()"
   ]
  },
  {
   "cell_type": "code",
   "execution_count": null,
   "metadata": {},
   "outputs": [],
   "source": [
    "#kreiere spalte für namen\n",
    "df['g_name'] = df.name.str.extract('\\d*\\d*\\d*\\d/\\d\\d\\d\\d\\n(.*)')"
   ]
  },
  {
   "cell_type": "code",
   "execution_count": null,
   "metadata": {},
   "outputs": [],
   "source": [
    "#kreire spalte für geschäftsnummer\n",
    "df['g_nr'] = df.name.str.extract('(\\d*\\d*\\d*\\d/\\d\\d\\d\\d)')"
   ]
  },
  {
   "cell_type": "code",
   "execution_count": null,
   "metadata": {},
   "outputs": [],
   "source": [
    "#kreire spalte für \n",
    "df['g_art'] = df.geschaeft.str.extract('Geschäftsart:(.*)\\n')\n",
    "df.head()"
   ]
  },
  {
   "cell_type": "code",
   "execution_count": null,
   "metadata": {},
   "outputs": [],
   "source": [
    "#extrahiere die Erstunterzeichner der Vorstösse\n",
    "df['g_erst'] = df.beteiligte.str.extract('(.*), Erstunterzeichner')\n"
   ]
  },
  {
   "cell_type": "code",
   "execution_count": null,
   "metadata": {},
   "outputs": [],
   "source": [
    "#extrahiere die Partei der Erstunterzeichner\n",
    "df['g_partei'] = df.g_erst.str.extract('(\\w*), ')\n",
    "df.head()"
   ]
  },
  {
   "cell_type": "markdown",
   "metadata": {},
   "source": [
    "Wie hat sich die Zahl der PI entwickelt?"
   ]
  },
  {
   "cell_type": "code",
   "execution_count": null,
   "metadata": {},
   "outputs": [],
   "source": [
    "pi = df[df['g_art']==' Parlamentarische Initiative']"
   ]
  },
  {
   "cell_type": "code",
   "execution_count": null,
   "metadata": {},
   "outputs": [],
   "source": [
    "pi_peryear = pi[['year','g_art','beteiligte']].groupby(['year','g_art']).count().reset_index()\n",
    "pi_peryear.to_csv('pi_projahr.csv', index=False)\n",
    "pi_peryear"
   ]
  },
  {
   "cell_type": "markdown",
   "metadata": {},
   "source": [
    "Welche Partei hat wie viele PIs eingereicht seit 2015?"
   ]
  },
  {
   "cell_type": "code",
   "execution_count": null,
   "metadata": {},
   "outputs": [],
   "source": [
    "df2015 = df[df['year']>2014]"
   ]
  },
  {
   "cell_type": "code",
   "execution_count": null,
   "metadata": {},
   "outputs": [],
   "source": [
    "pi_perparty_2015 = df2015[['g_partei','g_art','g_nr']][df2015['g_art']==' Parlamentarische Initiative'].groupby(['g_partei','g_art']).count().sort_values(['g_art','g_nr'], ascending=False).reset_index()\n",
    "pi_perparty_2015.to_csv('pi_propartei_2015.csv', index=False)\n",
    "pi_perparty_2015.head()"
   ]
  },
  {
   "cell_type": "markdown",
   "metadata": {},
   "source": [
    "Wer hat am meisten PIs eingereicht?"
   ]
  },
  {
   "cell_type": "code",
   "execution_count": null,
   "metadata": {},
   "outputs": [],
   "source": [
    "pi_perperson_2015 = df2015[['g_erst','g_art','g_nr']][df2015['g_art']==' Parlamentarische Initiative'].groupby(['g_erst','g_art']).count().sort_values(['g_art','g_nr'], ascending=False).reset_index()\n",
    "pi_perperson_2015.to_csv('pi_properson_2015.csv', index=False)\n",
    "pi_perperson_2015.head(10)"
   ]
  },
  {
   "cell_type": "markdown",
   "metadata": {},
   "source": [
    "Wer hat am meisten im Jahr 2018 eingereicht?"
   ]
  },
  {
   "cell_type": "code",
   "execution_count": null,
   "metadata": {},
   "outputs": [],
   "source": [
    "df2018 = df[df['year']>2017]"
   ]
  },
  {
   "cell_type": "code",
   "execution_count": null,
   "metadata": {},
   "outputs": [],
   "source": [
    "pi_perperson_2018 = df2018[['g_erst','g_art','g_nr']][df2018['g_art']==' Parlamentarische Initiative'].groupby(['g_erst','g_art']).count().sort_values(['g_art','g_nr'], ascending=False).reset_index()\n",
    "pi_perperson_2018"
   ]
  },
  {
   "cell_type": "markdown",
   "metadata": {},
   "source": [
    "Wer macht allgemein am meisten Vorstösse?"
   ]
  },
  {
   "cell_type": "code",
   "execution_count": null,
   "metadata": {},
   "outputs": [],
   "source": [
    "perperson2015 = df2015[['g_erst','g_nr']].groupby(['g_erst']).count().sort_values(['g_nr'], ascending=False).reset_index()\n",
    "perperson2015.head(13)"
   ]
  },
  {
   "cell_type": "code",
   "execution_count": null,
   "metadata": {},
   "outputs": [],
   "source": [
    "#welche partei hat insgesamt am meisten Vorstösse eingereicht\n",
    "df2015[['g_partei','g_nr']].groupby(['g_partei']).count().sort_values(['g_nr'], ascending=False).reset_index().head()"
   ]
  },
  {
   "cell_type": "markdown",
   "metadata": {},
   "source": [
    "Export die PIs ab 2015"
   ]
  },
  {
   "cell_type": "code",
   "execution_count": null,
   "metadata": {},
   "outputs": [],
   "source": [
    "pi_name_2015 = df2015[['g_erst','g_art','g_nr', 'g_name']][df2015['g_art']==' Parlamentarische Initiative']\n",
    "pi_name_2015.to_csv('pi_name_2015.csv', index=False)\n",
    "pi_name_2015.head()"
   ]
  },
  {
   "cell_type": "markdown",
   "metadata": {},
   "source": [
    "Vorstösse pro Partei nach Art (ab 2015)"
   ]
  },
  {
   "cell_type": "code",
   "execution_count": null,
   "metadata": {},
   "outputs": [],
   "source": [
    "perparty_2015 = df2015[['g_partei','g_art','g_nr']].groupby(['g_partei','g_art']).count().sort_values(['g_art','g_nr'], ascending=False).reset_index()\n",
    "perparty_2015.to_csv('perparty_2015.csv', index=False)"
   ]
  },
  {
   "cell_type": "code",
   "execution_count": null,
   "metadata": {},
   "outputs": [],
   "source": [
    "perparty_2015.to_csv('pi_proparty_2015.csv', index=False)\n",
    "perparty_2015.head(15)"
   ]
  },
  {
   "cell_type": "code",
   "execution_count": null,
   "metadata": {},
   "outputs": [],
   "source": []
  },
  {
   "cell_type": "code",
   "execution_count": null,
   "metadata": {},
   "outputs": [],
   "source": []
  },
  {
   "cell_type": "markdown",
   "metadata": {},
   "source": [
    "Aussage von Thomas Vogel überprüfen: «Ich habe das Gefühl, die Räte brauchen nur noch Anfragen und parlamentarische Initiativen, also das schwächste und das stärkste Mittel der Parlamentarier»"
   ]
  },
  {
   "cell_type": "code",
   "execution_count": null,
   "metadata": {},
   "outputs": [],
   "source": [
    "all_peryear = df[['year','g_art','beteiligte']].groupby(['year','g_art']).count().unstack().reset_index()\n",
    "all_peryear.set_index('year', inplace=True)\n",
    "all_peryear.head()"
   ]
  },
  {
   "cell_type": "code",
   "execution_count": null,
   "metadata": {},
   "outputs": [],
   "source": [
    "all_peryear.iloc[:,[0,8,10,11,12]].plot(kind='line', figsize=(10, 10)) #mit Anfrage"
   ]
  },
  {
   "cell_type": "code",
   "execution_count": null,
   "metadata": {},
   "outputs": [],
   "source": [
    "all_peryear.iloc[:,[8,10,11,12]].plot(kind='line', figsize=(10, 10)) #ohne Anfrage"
   ]
  },
  {
   "cell_type": "markdown",
   "metadata": {},
   "source": [
    "tatsächlich haben die meisten Vorstossarten deutlich abgenommen (ohne den dringlichen). Besonders auffällig Postulat. War sonst in den Jahren vor Wahlen äusserst beliebt."
   ]
  },
  {
   "cell_type": "markdown",
   "metadata": {},
   "source": [
    "#### Quick and dirty Grafiken als PDFs exportierne für Infografik-Team"
   ]
  },
  {
   "cell_type": "code",
   "execution_count": null,
   "metadata": {},
   "outputs": [],
   "source": [
    "ax = pi_peryear[['year','beteiligte']].plot(x='year', y='beteiligte',kind='bar', color='blue', figsize=(10,8))\n",
    "\n",
    "for i, bar in enumerate(ax.patches):\n",
    "    print(i)\n",
    "    print(bar)\n",
    "    value = bar.get_height()\n",
    "    x_pos = i\n",
    "    y_pos = bar.get_height() + 3\n",
    "    ax.text(x_pos, y_pos, round(value,1), ha='center', va='top', color='black')\n",
    "    \n",
    "\n",
    "# then we save it\n",
    "plt.savefig(\"bar_PIs.pdf\")\n",
    "plt.show()"
   ]
  },
  {
   "cell_type": "code",
   "execution_count": null,
   "metadata": {},
   "outputs": [],
   "source": []
  },
  {
   "cell_type": "code",
   "execution_count": null,
   "metadata": {},
   "outputs": [],
   "source": [
    "party_plot = pd.concat([pi_perparty_2015[0:7],pi_perparty_2015[8:]])"
   ]
  },
  {
   "cell_type": "code",
   "execution_count": null,
   "metadata": {},
   "outputs": [],
   "source": [
    "ax = party_plot[['g_partei','g_nr']].head().plot(x='g_partei', y='g_nr',kind='bar', color='blue', figsize=(10,8))\n",
    "\n",
    "for i, bar in enumerate(ax.patches):\n",
    "    print(i)\n",
    "    print(bar)\n",
    "    value = bar.get_height()\n",
    "    x_pos = i\n",
    "    y_pos = bar.get_height() + 3\n",
    "    ax.text(x_pos, y_pos, round(value,1), ha='center', va='top', color='black')\n",
    "    \n",
    "\n",
    "# then we save it\n",
    "plt.savefig(\"bar_PIs_partei.pdf\")\n",
    "plt.show()"
   ]
  },
  {
   "cell_type": "code",
   "execution_count": null,
   "metadata": {},
   "outputs": [],
   "source": []
  },
  {
   "cell_type": "code",
   "execution_count": null,
   "metadata": {},
   "outputs": [],
   "source": []
  },
  {
   "cell_type": "code",
   "execution_count": null,
   "metadata": {},
   "outputs": [],
   "source": []
  }
 ],
 "metadata": {
  "kernelspec": {
   "display_name": "Python 3",
   "language": "python",
   "name": "python3"
  },
  "language_info": {
   "codemirror_mode": {
    "name": "ipython",
    "version": 3
   },
   "file_extension": ".py",
   "mimetype": "text/x-python",
   "name": "python",
   "nbconvert_exporter": "python",
   "pygments_lexer": "ipython3",
   "version": "3.6.5"
  }
 },
 "nbformat": 4,
 "nbformat_minor": 2
}
